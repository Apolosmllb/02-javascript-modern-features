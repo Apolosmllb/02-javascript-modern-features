{
  "cells": [
    {
      "cell_type": "markdown",
      "metadata": {
        "id": "view-in-github",
        "colab_type": "text"
      },
      "source": [
        "<a href=\"https://colab.research.google.com/github/Apolosmllb/02-javascript-modern-features/blob/master/AlgorithmicComplexity.ipynb\" target=\"_parent\"><img src=\"https://colab.research.google.com/assets/colab-badge.svg\" alt=\"Open In Colab\"/></a>"
      ]
    },
    {
      "cell_type": "code",
      "execution_count": null,
      "metadata": {
        "id": "DhmoyM9-HiC8"
      },
      "outputs": [],
      "source": [
        "numero = int(input('Escribe un numero: '))"
      ]
    },
    {
      "cell_type": "code",
      "execution_count": null,
      "metadata": {
        "id": "zdFXhgHtM49i"
      },
      "outputs": [],
      "source": [
        "nombre = input('Cual es tu nombre: ')"
      ]
    },
    {
      "cell_type": "code",
      "execution_count": null,
      "metadata": {
        "id": "ShWJKczGL2i4"
      },
      "outputs": [],
      "source": [
        "#print('Tu nombre es ' + nombre)\n",
        "#numero = int(input())\n",
        "print(numero)"
      ]
    },
    {
      "cell_type": "code",
      "execution_count": null,
      "metadata": {
        "id": "qhQeV7dqaUP9"
      },
      "outputs": [],
      "source": [
        "objetivo = int(input('Escoge un numero: '))\n",
        "epsilon = 0.01\n",
        "paso = epsilon**2 \n",
        "respuesta = 0.0\n",
        "\n",
        "while abs(respuesta**2 - objetivo) >= epsilon and respuesta <= objetivo:\n",
        "    print(abs(respuesta**2 - objetivo), respuesta)\n",
        "    respuesta += paso\n",
        "\n",
        "if abs(respuesta**2 - objetivo) >= epsilon:\n",
        "    print(f'No se encontro la raiz cuadrada {objetivo}')\n",
        "else:\n",
        "    print(f'La raiz cudrada de {objetivo} es {respuesta}')"
      ]
    },
    {
      "cell_type": "code",
      "execution_count": null,
      "metadata": {
        "id": "tUx4_wdTeUxU"
      },
      "outputs": [],
      "source": [
        "#BUSQUEDA BINARIA\n",
        "objetivo = int(input('Escoje un numero: '))\n",
        "epsilon = 0.01\n",
        "bajo = 0.0\n",
        "alto = max(1.0, objetivo)\n",
        "respuesta = (alto + bajo)/2\n",
        "\n",
        "print(alto)\n",
        "print(respuesta)\n",
        "print(respuesta**2)\n",
        "while abs(respuesta**2 - objetivo) >= epsilon:\n",
        "  print(f'bajo = {bajo}, alto={alto}, respueta = {respuesta}')\n",
        "  if respuesta**2 < objetivo:\n",
        "    bajo  = respuesta\n",
        "  else:\n",
        "    alto = respuesta\n",
        "  respuesta = (alto + bajo)/2\n",
        "print(f'la raiz cuadrada del {objetivo} es + {respuesta}')"
      ]
    },
    {
      "cell_type": "code",
      "source": [],
      "metadata": {
        "id": "xc-oyQ4j2dBC"
      },
      "execution_count": null,
      "outputs": []
    }
  ],
  "metadata": {
    "colab": {
      "provenance": [],
      "authorship_tag": "ABX9TyOYkATefd2gshZu0qPzUAbk",
      "include_colab_link": true
    },
    "kernelspec": {
      "display_name": "Python 3",
      "name": "python3"
    },
    "language_info": {
      "name": "python"
    }
  },
  "nbformat": 4,
  "nbformat_minor": 0
}